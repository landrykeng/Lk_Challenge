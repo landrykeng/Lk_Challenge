{
 "cells": [
  {
   "cell_type": "code",
   "execution_count": 1,
   "metadata": {},
   "outputs": [],
   "source": [
    "# # Packages\n",
    "import pandas as pd\n",
    "import numpy as np\n",
    "import matplotlib.pyplot as plt\n",
    "from sklearn.model_selection import train_test_split, GridSearchCV\n",
    "from sklearn.ensemble import RandomForestClassifier\n",
    "from sklearn.metrics import classification_report, accuracy_score, roc_curve, roc_auc_score\n",
    "from sklearn.preprocessing import StandardScaler\n",
    "from sklearn.neighbors import KNeighborsClassifier\n",
    "import warnings\n",
    "warnings.filterwarnings('ignore')"
   ]
  },
  {
   "cell_type": "code",
   "execution_count": 2,
   "metadata": {},
   "outputs": [],
   "source": [
    "from Functions import *"
   ]
  },
  {
   "cell_type": "code",
   "execution_count": 3,
   "metadata": {},
   "outputs": [
    {
     "data": {
      "application/vnd.microsoft.datawrangler.viewer.v0+json": {
       "columns": [
        {
         "name": "index",
         "rawType": "int64",
         "type": "integer"
        },
        {
         "name": "ÉLIGIBILITÉ AU DON.",
         "rawType": "int64",
         "type": "integer"
        },
        {
         "name": "Age",
         "rawType": "float64",
         "type": "float"
        },
        {
         "name": "Taux _hémoglobine_(g/dl)",
         "rawType": "float64",
         "type": "float"
        },
        {
         "name": "Genre_Homme",
         "rawType": "int64",
         "type": "integer"
        },
        {
         "name": "Good_profession_Chomeurs",
         "rawType": "int64",
         "type": "integer"
        },
        {
         "name": "Good_profession_Employes de type administratif",
         "rawType": "int64",
         "type": "integer"
        },
        {
         "name": "Good_profession_Intellectuels et scientifiques",
         "rawType": "int64",
         "type": "integer"
        },
        {
         "name": "Good_profession_Non précisée",
         "rawType": "int64",
         "type": "integer"
        },
        {
         "name": "Good_profession_Personnel des services directs aux particuliers, commercants vendeurs",
         "rawType": "int64",
         "type": "integer"
        },
        {
         "name": "Good_profession_artisants et ouvriers d'industrie",
         "rawType": "int64",
         "type": "integer"
        },
        {
         "name": "Good_profession_dirigeants,cadre de direction et gerants",
         "rawType": "int64",
         "type": "integer"
        },
        {
         "name": "Good_profession_forces de defense et securité personnel",
         "rawType": "int64",
         "type": "integer"
        },
        {
         "name": "Good_profession_professions intermediaires",
         "rawType": "int64",
         "type": "integer"
        },
        {
         "name": "Good_profession_Élève",
         "rawType": "int64",
         "type": "integer"
        },
        {
         "name": "ancien_don_sang_Oui",
         "rawType": "int64",
         "type": "integer"
        }
       ],
       "conversionMethod": "pd.DataFrame",
       "ref": "5a19583a-b694-4b5d-8155-0fd78b8be97c",
       "rows": [
        [
         "0",
         "1",
         "-0.003865377460623565",
         "-0.08605854441986106",
         "1",
         "0",
         "0",
         "0",
         "0",
         "0",
         "0",
         "0",
         "0",
         "1",
         "0",
         "0"
        ],
        [
         "1",
         "1",
         "-0.003865377460623565",
         "-0.08605854441986106",
         "1",
         "0",
         "0",
         "0",
         "0",
         "0",
         "0",
         "0",
         "0",
         "1",
         "0",
         "0"
        ],
        [
         "2",
         "1",
         "-0.9060686353793054",
         "1.290946089379534",
         "1",
         "0",
         "0",
         "0",
         "0",
         "0",
         "0",
         "0",
         "0",
         "1",
         "0",
         "1"
        ],
        [
         "3",
         "1",
         "-0.3905239165686301",
         "-1.245641393935141",
         "0",
         "0",
         "0",
         "0",
         "0",
         "0",
         "0",
         "0",
         "0",
         "1",
         "0",
         "0"
        ],
        [
         "4",
         "1",
         "-0.6482962759739677",
         "1.725789657947765",
         "1",
         "0",
         "0",
         "1",
         "0",
         "0",
         "0",
         "0",
         "0",
         "0",
         "0",
         "0"
        ]
       ],
       "shape": {
        "columns": 15,
        "rows": 5
       }
      },
      "text/html": [
       "<div>\n",
       "<style scoped>\n",
       "    .dataframe tbody tr th:only-of-type {\n",
       "        vertical-align: middle;\n",
       "    }\n",
       "\n",
       "    .dataframe tbody tr th {\n",
       "        vertical-align: top;\n",
       "    }\n",
       "\n",
       "    .dataframe thead th {\n",
       "        text-align: right;\n",
       "    }\n",
       "</style>\n",
       "<table border=\"1\" class=\"dataframe\">\n",
       "  <thead>\n",
       "    <tr style=\"text-align: right;\">\n",
       "      <th></th>\n",
       "      <th>ÉLIGIBILITÉ AU DON.</th>\n",
       "      <th>Age</th>\n",
       "      <th>Taux _hémoglobine_(g/dl)</th>\n",
       "      <th>Genre_Homme</th>\n",
       "      <th>Good_profession_Chomeurs</th>\n",
       "      <th>Good_profession_Employes de type administratif</th>\n",
       "      <th>Good_profession_Intellectuels et scientifiques</th>\n",
       "      <th>Good_profession_Non précisée</th>\n",
       "      <th>Good_profession_Personnel des services directs aux particuliers, commercants vendeurs</th>\n",
       "      <th>Good_profession_artisants et ouvriers d'industrie</th>\n",
       "      <th>Good_profession_dirigeants,cadre de direction et gerants</th>\n",
       "      <th>Good_profession_forces de defense et securité personnel</th>\n",
       "      <th>Good_profession_professions intermediaires</th>\n",
       "      <th>Good_profession_Élève</th>\n",
       "      <th>ancien_don_sang_Oui</th>\n",
       "    </tr>\n",
       "  </thead>\n",
       "  <tbody>\n",
       "    <tr>\n",
       "      <th>0</th>\n",
       "      <td>1</td>\n",
       "      <td>-0.003865</td>\n",
       "      <td>-0.086059</td>\n",
       "      <td>1</td>\n",
       "      <td>0</td>\n",
       "      <td>0</td>\n",
       "      <td>0</td>\n",
       "      <td>0</td>\n",
       "      <td>0</td>\n",
       "      <td>0</td>\n",
       "      <td>0</td>\n",
       "      <td>0</td>\n",
       "      <td>1</td>\n",
       "      <td>0</td>\n",
       "      <td>0</td>\n",
       "    </tr>\n",
       "    <tr>\n",
       "      <th>1</th>\n",
       "      <td>1</td>\n",
       "      <td>-0.003865</td>\n",
       "      <td>-0.086059</td>\n",
       "      <td>1</td>\n",
       "      <td>0</td>\n",
       "      <td>0</td>\n",
       "      <td>0</td>\n",
       "      <td>0</td>\n",
       "      <td>0</td>\n",
       "      <td>0</td>\n",
       "      <td>0</td>\n",
       "      <td>0</td>\n",
       "      <td>1</td>\n",
       "      <td>0</td>\n",
       "      <td>0</td>\n",
       "    </tr>\n",
       "    <tr>\n",
       "      <th>2</th>\n",
       "      <td>1</td>\n",
       "      <td>-0.906069</td>\n",
       "      <td>1.290946</td>\n",
       "      <td>1</td>\n",
       "      <td>0</td>\n",
       "      <td>0</td>\n",
       "      <td>0</td>\n",
       "      <td>0</td>\n",
       "      <td>0</td>\n",
       "      <td>0</td>\n",
       "      <td>0</td>\n",
       "      <td>0</td>\n",
       "      <td>1</td>\n",
       "      <td>0</td>\n",
       "      <td>1</td>\n",
       "    </tr>\n",
       "    <tr>\n",
       "      <th>3</th>\n",
       "      <td>1</td>\n",
       "      <td>-0.390524</td>\n",
       "      <td>-1.245641</td>\n",
       "      <td>0</td>\n",
       "      <td>0</td>\n",
       "      <td>0</td>\n",
       "      <td>0</td>\n",
       "      <td>0</td>\n",
       "      <td>0</td>\n",
       "      <td>0</td>\n",
       "      <td>0</td>\n",
       "      <td>0</td>\n",
       "      <td>1</td>\n",
       "      <td>0</td>\n",
       "      <td>0</td>\n",
       "    </tr>\n",
       "    <tr>\n",
       "      <th>4</th>\n",
       "      <td>1</td>\n",
       "      <td>-0.648296</td>\n",
       "      <td>1.725790</td>\n",
       "      <td>1</td>\n",
       "      <td>0</td>\n",
       "      <td>0</td>\n",
       "      <td>1</td>\n",
       "      <td>0</td>\n",
       "      <td>0</td>\n",
       "      <td>0</td>\n",
       "      <td>0</td>\n",
       "      <td>0</td>\n",
       "      <td>0</td>\n",
       "      <td>0</td>\n",
       "      <td>0</td>\n",
       "    </tr>\n",
       "  </tbody>\n",
       "</table>\n",
       "</div>"
      ],
      "text/plain": [
       "   ÉLIGIBILITÉ AU DON.       Age  Taux _hémoglobine_(g/dl)  Genre_Homme  \\\n",
       "0                    1 -0.003865                 -0.086059            1   \n",
       "1                    1 -0.003865                 -0.086059            1   \n",
       "2                    1 -0.906069                  1.290946            1   \n",
       "3                    1 -0.390524                 -1.245641            0   \n",
       "4                    1 -0.648296                  1.725790            1   \n",
       "\n",
       "   Good_profession_Chomeurs  Good_profession_Employes de type administratif  \\\n",
       "0                         0                                               0   \n",
       "1                         0                                               0   \n",
       "2                         0                                               0   \n",
       "3                         0                                               0   \n",
       "4                         0                                               0   \n",
       "\n",
       "   Good_profession_Intellectuels et scientifiques  \\\n",
       "0                                               0   \n",
       "1                                               0   \n",
       "2                                               0   \n",
       "3                                               0   \n",
       "4                                               1   \n",
       "\n",
       "   Good_profession_Non précisée  \\\n",
       "0                             0   \n",
       "1                             0   \n",
       "2                             0   \n",
       "3                             0   \n",
       "4                             0   \n",
       "\n",
       "   Good_profession_Personnel des services directs aux particuliers, commercants vendeurs  \\\n",
       "0                                                  0                                       \n",
       "1                                                  0                                       \n",
       "2                                                  0                                       \n",
       "3                                                  0                                       \n",
       "4                                                  0                                       \n",
       "\n",
       "   Good_profession_artisants et ouvriers d'industrie  \\\n",
       "0                                                  0   \n",
       "1                                                  0   \n",
       "2                                                  0   \n",
       "3                                                  0   \n",
       "4                                                  0   \n",
       "\n",
       "   Good_profession_dirigeants,cadre de direction et gerants  \\\n",
       "0                                                  0          \n",
       "1                                                  0          \n",
       "2                                                  0          \n",
       "3                                                  0          \n",
       "4                                                  0          \n",
       "\n",
       "   Good_profession_forces de defense et securité personnel  \\\n",
       "0                                                  0         \n",
       "1                                                  0         \n",
       "2                                                  0         \n",
       "3                                                  0         \n",
       "4                                                  0         \n",
       "\n",
       "   Good_profession_professions intermediaires  Good_profession_Élève  \\\n",
       "0                                           1                      0   \n",
       "1                                           1                      0   \n",
       "2                                           1                      0   \n",
       "3                                           1                      0   \n",
       "4                                           0                      0   \n",
       "\n",
       "   ancien_don_sang_Oui  \n",
       "0                    0  \n",
       "1                    0  \n",
       "2                    1  \n",
       "3                    0  \n",
       "4                    0  "
      ]
     },
     "execution_count": 3,
     "metadata": {},
     "output_type": "execute_result"
    }
   ],
   "source": [
    "datamodel = load_data()\n",
    "datamodel.head()\n"
   ]
  },
  {
   "cell_type": "code",
   "execution_count": 4,
   "metadata": {},
   "outputs": [],
   "source": [
    "X_train, X_val, X_test, y_train, y_val, y_test = split_data(datamodel)"
   ]
  },
  {
   "cell_type": "code",
   "execution_count": 5,
   "metadata": {},
   "outputs": [
    {
     "name": "stdout",
     "output_type": "stream",
     "text": [
      "Meilleurs paramètres: {'bootstrap': False, 'criterion': 'entropy', 'max_depth': 5, 'max_features': 'sqrt', 'min_samples_leaf': 1, 'min_samples_split': 5, 'n_estimators': 90}\n",
      "Précision sur l'ensemble de validation: 0.8972\n"
     ]
    }
   ],
   "source": [
    "best_model, best_params = optimize_rforest(X_train, y_train, X_val, y_val)"
   ]
  },
  {
   "cell_type": "code",
   "execution_count": 6,
   "metadata": {},
   "outputs": [
    {
     "data": {
      "text/plain": [
       "(0.9003516998827668,\n",
       " 0.897196261682243,\n",
       " 0.8878504672897196,\n",
       "               precision    recall  f1-score     support\n",
       " 0              0.944444  0.515152  0.666667  165.000000\n",
       " 1              0.895151  0.992733  0.941420  688.000000\n",
       " accuracy       0.900352  0.900352  0.900352    0.900352\n",
       " macro avg      0.919798  0.753942  0.804043  853.000000\n",
       " weighted avg   0.904686  0.900352  0.888273  853.000000,\n",
       "               precision    recall  f1-score     support\n",
       " 0              1.000000  0.576923  0.731707   26.000000\n",
       " 1              0.880435  1.000000  0.936416   81.000000\n",
       " accuracy       0.897196  0.897196  0.897196    0.897196\n",
       " macro avg      0.940217  0.788462  0.834062  107.000000\n",
       " weighted avg   0.909488  0.897196  0.886674  107.000000,\n",
       "               precision    recall  f1-score    support\n",
       " 0              1.000000  0.478261  0.647059   23.00000\n",
       " 1              0.875000  1.000000  0.933333   84.00000\n",
       " accuracy       0.887850  0.887850  0.887850    0.88785\n",
       " macro avg      0.937500  0.739130  0.790196  107.00000\n",
       " weighted avg   0.901869  0.887850  0.871798  107.00000)"
      ]
     },
     "execution_count": 6,
     "metadata": {},
     "output_type": "execute_result"
    }
   ],
   "source": [
    "evaluate_model(best_model, X_train, X_val, X_test, y_train, y_val, y_test)"
   ]
  },
  {
   "cell_type": "code",
   "execution_count": 12,
   "metadata": {},
   "outputs": [
    {
     "name": "stdout",
     "output_type": "stream",
     "text": [
      "\n",
      "Exemple de prédiction pour un nouvel individu:\n",
      "Prédiction: {'prediction': 1, 'probability': 0.6535050328480788, 'interpretation': 'Éligible'}\n"
     ]
    }
   ],
   "source": [
    "# Exemple de prédiction pour un nouvel individu\n",
    "print(\"\\nExemple de prédiction pour un nouvel individu:\")\n",
    "new_individual = {\n",
    "    'Age': 18,\n",
    "    'Taux_hemoglobine': 12,\n",
    "    'Genre': 2,  # Homme\n",
    "    'Good_profession': 2,  # Catégorie professionnelle 2\n",
    "    'ancien_don_sang': 1  # A déjà donné du sang\n",
    "}\n",
    "\n",
    "prediction_result = predict_new_individual(new_individual,choice=2)\n",
    "print(f\"Prédiction: {prediction_result}\")"
   ]
  },
  {
   "cell_type": "code",
   "execution_count": null,
   "metadata": {},
   "outputs": [],
   "source": []
  },
  {
   "cell_type": "code",
   "execution_count": null,
   "metadata": {},
   "outputs": [],
   "source": []
  },
  {
   "cell_type": "code",
   "execution_count": null,
   "metadata": {},
   "outputs": [],
   "source": []
  },
  {
   "cell_type": "code",
   "execution_count": null,
   "metadata": {},
   "outputs": [],
   "source": []
  },
  {
   "cell_type": "code",
   "execution_count": null,
   "metadata": {},
   "outputs": [],
   "source": []
  },
  {
   "cell_type": "code",
   "execution_count": null,
   "metadata": {},
   "outputs": [],
   "source": []
  },
  {
   "cell_type": "code",
   "execution_count": null,
   "metadata": {},
   "outputs": [],
   "source": []
  },
  {
   "cell_type": "code",
   "execution_count": null,
   "metadata": {},
   "outputs": [],
   "source": []
  },
  {
   "cell_type": "code",
   "execution_count": null,
   "metadata": {},
   "outputs": [],
   "source": []
  },
  {
   "cell_type": "code",
   "execution_count": null,
   "metadata": {},
   "outputs": [],
   "source": []
  },
  {
   "cell_type": "code",
   "execution_count": null,
   "metadata": {},
   "outputs": [],
   "source": []
  },
  {
   "cell_type": "code",
   "execution_count": null,
   "metadata": {},
   "outputs": [],
   "source": []
  },
  {
   "cell_type": "code",
   "execution_count": null,
   "metadata": {},
   "outputs": [],
   "source": [
    "def optimize_rforest(X_train, y_train, X_val, y_val):\n",
    "      \n",
    "    # Meilleurs paramètres \n",
    "    best_params = {'bootstrap': False,\n",
    "                'criterion': 'entropy',\n",
    "                'max_depth': 5,\n",
    "                'max_features': 'sqrt',\n",
    "                'min_samples_leaf': 1,\n",
    "                'min_samples_split': 5,\n",
    "                'n_estimators': 90}\n",
    "    \n",
    "    print(f\"Meilleurs paramètres: {best_params}\")\n",
    "   \n",
    "    # Initialisation du modèle avec les meilleurs paramètres\n",
    "    best_model = RandomForestClassifier(\n",
    "            bootstrap = False,\n",
    "            criterion = 'entropy',\n",
    "            max_depth = 5,\n",
    "            max_features = 'sqrt',\n",
    "            min_samples_leaf = 1,\n",
    "            min_samples_split = 5,\n",
    "            n_estimators = 90)\n",
    "    best_model.fit(X_train, y_train)\n",
    "    \n",
    "    # Évaluation sur l'ensemble de validation\n",
    "    val_accuracy = best_model.score(X_val, y_val)\n",
    "    print(f\"Précision sur l'ensemble de validation: {val_accuracy:.4f}\")\n",
    "    # Sauvegarde du modèle\n",
    "    joblib.dump(best_model, 'random_forest_model.pkl')\n",
    "    \n",
    "    return best_model, best_params"
   ]
  },
  {
   "cell_type": "code",
   "execution_count": null,
   "metadata": {},
   "outputs": [],
   "source": []
  }
 ],
 "metadata": {
  "kernelspec": {
   "display_name": "base",
   "language": "python",
   "name": "python3"
  },
  "language_info": {
   "codemirror_mode": {
    "name": "ipython",
    "version": 3
   },
   "file_extension": ".py",
   "mimetype": "text/x-python",
   "name": "python",
   "nbconvert_exporter": "python",
   "pygments_lexer": "ipython3",
   "version": "3.11.7"
  }
 },
 "nbformat": 4,
 "nbformat_minor": 2
}
